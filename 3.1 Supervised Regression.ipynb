{
 "cells": [
  {
   "cell_type": "markdown",
   "id": "1bba0128",
   "metadata": {},
   "source": [
    "# Supervised regression\n",
    "\n",
    "The goal is to build and optimize neural networks with PyTorch with the objective of fitting a known feature in the training dataset.\n",
    "\n",
    "The fit is achieved by minimizing the mean-squared-error between the prediction and the target features. As noticed during the presentation, by minimizing the mean-squared-error, we assume that the underlying error distribution is Gaussian. One could use the mean absolute error instead when assuming the distribution is Laplacian.\n"
   ]
  },
  {
   "cell_type": "code",
   "execution_count": 1,
   "id": "23feddde",
   "metadata": {},
   "outputs": [],
   "source": [
    "from typing import Tuple\n",
    "\n",
    "# import standard PyTorch modules\n",
    "import torch\n",
    "import torch.nn as nn\n",
    "import torch.nn.functional as F\n",
    "\n",
    "import pandas as pd\n",
    "import numpy as np\n",
    "import matplotlib.pyplot as plt\n",
    "from mpl_toolkits.mplot3d import axes3d\n"
   ]
  },
  {
   "cell_type": "markdown",
   "id": "bb1286f0",
   "metadata": {},
   "source": [
    "We start by generating some fake dataset, which is simple enough that we can visualize the results easily. For this reason, the dataset will contain only one independent variable.\n",
    "\n",
    "The simulated example data will be $f(x) = (3 + \\kappa) x^2 + \\epsilon$, where $\\epsilon \\sim \\mathcal{N}(\\mu=0, \\sigma=10)$ and $\\kappa \\sim \\mathcal{N}(\\mu=0, \\sigma=0.03)$.\n",
    "\n",
    "In this case we do know the true model, so it is interesting to take some time to pinpoint the role of $\\kappa$ and $\\epsilon$. These variables add fluctuation to the results. $\\epsilon$ adds Gaussian noise in a way that is completely independent from $x$ and cannot be traced down to a particular functional dependence. $\\kappa$ changes a specific parameter of the model, in this case the coefficient 3, by around 1%.\n"
   ]
  },
  {
   "cell_type": "code",
   "execution_count": 2,
   "id": "5d457cd8",
   "metadata": {},
   "outputs": [],
   "source": [
    "def generate_data(N: int) -> np.ndarray:\n",
    "    x = 2*np.random.randn(N, 1)\n",
    "    epsilon = 10*np.random.randn(N, 1)\n",
    "    kappa = 0.03*np.random.randn(N, 1)\n",
    "    z = (3 + kappa)*x**2 + epsilon\n",
    "    return np.concatenate((x, z), axis=1).astype(np.float32)\n",
    "\n",
    "train_data = generate_data(N=1000)"
   ]
  },
  {
   "cell_type": "markdown",
   "id": "48433f6f",
   "metadata": {},
   "source": [
    "PyTorch allows you to create a class that outputs a single data entry and use that to feed input to your neural network. We will use the following class to feed the data to the neural network. This looks useless if all your data fits in a Numpy array, but notice that if you have a lot of data and cannot load it all in memory, this allows you to read data on demand, as you need it and only the needed samples are stored at a single time."
   ]
  },
  {
   "cell_type": "code",
   "execution_count": 3,
   "id": "30205402",
   "metadata": {},
   "outputs": [],
   "source": [
    "class MyDataset(torch.utils.data.Dataset):\n",
    "    def __init__(self, data: np.ndarray):\n",
    "        self.data = data\n",
    "    def __len__(self) -> int:\n",
    "        \"\"\"How many samples do I have?\"\"\"\n",
    "        return len(self.data)\n",
    "    def __getitem__(self, idx):\n",
    "        # give me item with index idx\n",
    "        return {\"data\": self.data[idx, 0:1], \"target\": self.data[idx, 1:]}\n"
   ]
  },
  {
   "cell_type": "code",
   "execution_count": 4,
   "id": "cc0b0774",
   "metadata": {},
   "outputs": [
    {
     "name": "stdout",
     "output_type": "stream",
     "text": [
      "1000\n"
     ]
    }
   ],
   "source": [
    "my_dataset = MyDataset(train_data)\n",
    "print(len(my_dataset))"
   ]
  },
  {
   "cell_type": "code",
   "execution_count": 5,
   "id": "6dccfac6",
   "metadata": {},
   "outputs": [
    {
     "name": "stdout",
     "output_type": "stream",
     "text": [
      "{'data': array([-1.5745504], dtype=float32), 'target': array([17.356268], dtype=float32)}\n"
     ]
    }
   ],
   "source": [
    "print(my_dataset[1])"
   ]
  },
  {
   "cell_type": "markdown",
   "id": "527089bd",
   "metadata": {},
   "source": [
    "Plot some of the data:"
   ]
  },
  {
   "cell_type": "code",
   "execution_count": 6,
   "id": "067b8105",
   "metadata": {},
   "outputs": [
    {
     "data": {
      "image/png": "[encoded data removed]",
      "text/plain": [
       "<Figure size 640x480 with 1 Axes>"
      ]
     },
     "metadata": {},
     "output_type": "display_data"
    }
   ],
   "source": [
    "fig = plt.figure()\n",
    "ax = fig.add_subplot(111)\n",
    "ax.scatter(train_data[:, 0], train_data[:, 1])\n",
    "plt.show()"
   ]
  },
  {
   "cell_type": "markdown",
   "id": "e517975c",
   "metadata": {},
   "source": [
    "And now let us define the neural network. In PyTorch, neural networks always extend `nn.Module`. They define their sub-parts in their constructor, which are convolutional layers and fully connected linear layers in this case, and the method `forward` is expected to receive an input image and output the network target.\n",
    "\n",
    "The network parameters are the weights of the `Linear` layers, which are conveniently hidden here, but can be accessed if you try to access their `weights` elements."
   ]
  },
  {
   "cell_type": "code",
   "execution_count": 7,
   "id": "d908ef86",
   "metadata": {},
   "outputs": [],
   "source": [
    "class Network(nn.Module):\n",
    "    \"\"\"\n",
    "        This is our parametrized function.\n",
    "        It stores all the parametrized weights theta inside the model object.\n",
    "        For such a simple example data, it was not necessary to have such a complex model:\n",
    "        this was only done here to show the interface provided by PyTorch.\n",
    "        The forward function receives the x values and outputs an estimate of the target.\n",
    "        \n",
    "        The nn.Sequential object allows one to apply each step in the given list of parameter\n",
    "        in a sequential way. An alternative would be to create each of these layers manually\n",
    "        and apply them one after the other in the forward method.\n",
    "    \"\"\"\n",
    "    def __init__(self, input_dimension: int=1, output_dimension: int=1):\n",
    "        \"\"\"\n",
    "        Constructor. Here we initialize the weights.\n",
    "        \"\"\"\n",
    "        super().__init__()\n",
    "\n",
    "        hidden_layer = 100\n",
    "        self.model = nn.Sequential(\n",
    "                                   nn.Linear(input_dimension, hidden_layer),\n",
    "                                   nn.ReLU(),\n",
    "                                   nn.Linear(hidden_layer, hidden_layer),\n",
    "                                   nn.ReLU(),\n",
    "                                   nn.Linear(hidden_layer, output_dimension)\n",
    "                                    )\n",
    "\n",
    "    def forward(self, x):\n",
    "        \"\"\"\n",
    "        This function is called when one does my_network(x) and it represents the action\n",
    "        of our parametrized function in the input.\n",
    "        \"\"\"\n",
    "        return self.model(x)"
   ]
  },
  {
   "cell_type": "markdown",
   "id": "9c5620dc",
   "metadata": {},
   "source": [
    "Let us create one instance of this network. We also create an instance of PyTorch's `DataLoader`, which has the task of taking a given number of data elements and outputing it in a single object. This \"mini-batch\" of data is used during training, so that we do not need to load the entire data in memory during the optimization procedure.\n",
    "\n",
    "We also create an instance of the Adam optimizer, which is used to tune the parameters of the network."
   ]
  },
  {
   "cell_type": "code",
   "execution_count": 8,
   "id": "988e1979",
   "metadata": {},
   "outputs": [],
   "source": [
    "network = Network()\n",
    "B = 10\n",
    "loader = torch.utils.data.DataLoader(my_dataset, batch_size=B)\n",
    "optimizer = torch.optim.Adam(network.parameters(), lr=1e-3)"
   ]
  },
  {
   "cell_type": "markdown",
   "id": "3ee54520",
   "metadata": {},
   "source": [
    "Now we actually repeatedly try to optimize the network parameters. Each time we go through all the data we have, we go through one \"epoch\". For each epoch, we take several \"mini-batches\" of data (given by the `DataLoader` in `loader`) and use it to make one training step."
   ]
  },
  {
   "cell_type": "code",
   "execution_count": 9,
   "id": "d15d655d",
   "metadata": {},
   "outputs": [
    {
     "name": "stdout",
     "output_type": "stream",
     "text": [
      "Epoch 0/100: average loss 452.59888\n",
      "Epoch 1/100: average loss 339.20629\n",
      "Epoch 2/100: average loss 263.36186\n",
      "Epoch 3/100: average loss 223.31033\n",
      "Epoch 4/100: average loss 203.19063\n",
      "Epoch 5/100: average loss 191.09150\n",
      "Epoch 6/100: average loss 182.24778\n",
      "Epoch 7/100: average loss 175.20755\n",
      "Epoch 8/100: average loss 169.28958\n",
      "Epoch 9/100: average loss 164.11071\n",
      "Epoch 10/100: average loss 159.43586\n",
      "Epoch 11/100: average loss 155.22682\n",
      "Epoch 12/100: average loss 151.44842\n",
      "Epoch 13/100: average loss 148.07120\n",
      "Epoch 14/100: average loss 145.08345\n",
      "Epoch 15/100: average loss 142.42645\n",
      "Epoch 16/100: average loss 140.11430\n",
      "Epoch 17/100: average loss 138.10618\n",
      "Epoch 18/100: average loss 136.35764\n",
      "Epoch 19/100: average loss 134.83290\n",
      "Epoch 20/100: average loss 133.48525\n",
      "Epoch 21/100: average loss 132.29287\n",
      "Epoch 22/100: average loss 131.22552\n",
      "Epoch 23/100: average loss 130.26203\n",
      "Epoch 24/100: average loss 129.36947\n",
      "Epoch 25/100: average loss 128.54001\n",
      "Epoch 26/100: average loss 127.77259\n",
      "Epoch 27/100: average loss 127.05234\n",
      "Epoch 28/100: average loss 126.35698\n",
      "Epoch 29/100: average loss 125.67996\n",
      "Epoch 30/100: average loss 125.02878\n",
      "Epoch 31/100: average loss 124.39722\n",
      "Epoch 32/100: average loss 123.77292\n",
      "Epoch 33/100: average loss 123.15925\n",
      "Epoch 34/100: average loss 122.55854\n",
      "Epoch 35/100: average loss 121.97138\n",
      "Epoch 36/100: average loss 121.39923\n",
      "Epoch 37/100: average loss 120.84461\n",
      "Epoch 38/100: average loss 120.30410\n",
      "Epoch 39/100: average loss 119.77399\n",
      "Epoch 40/100: average loss 119.26286\n",
      "Epoch 41/100: average loss 118.77323\n",
      "Epoch 42/100: average loss 118.30117\n",
      "Epoch 43/100: average loss 117.84936\n",
      "Epoch 44/100: average loss 117.40730\n",
      "Epoch 45/100: average loss 116.97969\n",
      "Epoch 46/100: average loss 116.56799\n",
      "Epoch 47/100: average loss 116.17331\n",
      "Epoch 48/100: average loss 115.78789\n",
      "Epoch 49/100: average loss 115.42027\n",
      "Epoch 50/100: average loss 115.06993\n",
      "Epoch 51/100: average loss 114.73861\n",
      "Epoch 52/100: average loss 114.42548\n",
      "Epoch 53/100: average loss 114.11974\n",
      "Epoch 54/100: average loss 113.82660\n",
      "Epoch 55/100: average loss 113.55279\n",
      "Epoch 56/100: average loss 113.29264\n",
      "Epoch 57/100: average loss 113.04481\n",
      "Epoch 58/100: average loss 112.80599\n",
      "Epoch 59/100: average loss 112.58345\n",
      "Epoch 60/100: average loss 112.36975\n",
      "Epoch 61/100: average loss 112.16276\n",
      "Epoch 62/100: average loss 111.96547\n",
      "Epoch 63/100: average loss 111.77942\n",
      "Epoch 64/100: average loss 111.60994\n",
      "Epoch 65/100: average loss 111.44945\n",
      "Epoch 66/100: average loss 111.29771\n",
      "Epoch 67/100: average loss 111.14783\n",
      "Epoch 68/100: average loss 111.00336\n",
      "Epoch 69/100: average loss 110.86740\n",
      "Epoch 70/100: average loss 110.73891\n",
      "Epoch 71/100: average loss 110.61783\n",
      "Epoch 72/100: average loss 110.50365\n",
      "Epoch 73/100: average loss 110.39520\n",
      "Epoch 74/100: average loss 110.28639\n",
      "Epoch 75/100: average loss 110.17986\n",
      "Epoch 76/100: average loss 110.07611\n",
      "Epoch 77/100: average loss 109.97478\n",
      "Epoch 78/100: average loss 109.87914\n",
      "Epoch 79/100: average loss 109.78643\n",
      "Epoch 80/100: average loss 109.69742\n",
      "Epoch 81/100: average loss 109.60897\n",
      "Epoch 82/100: average loss 109.52515\n",
      "Epoch 83/100: average loss 109.44434\n",
      "Epoch 84/100: average loss 109.36794\n",
      "Epoch 85/100: average loss 109.30291\n",
      "Epoch 86/100: average loss 109.23819\n",
      "Epoch 87/100: average loss 109.17980\n",
      "Epoch 88/100: average loss 109.12350\n",
      "Epoch 89/100: average loss 109.06770\n",
      "Epoch 90/100: average loss 109.01470\n",
      "Epoch 91/100: average loss 108.96011\n",
      "Epoch 92/100: average loss 108.90628\n",
      "Epoch 93/100: average loss 108.86134\n",
      "Epoch 94/100: average loss 108.81156\n",
      "Epoch 95/100: average loss 108.76630\n",
      "Epoch 96/100: average loss 108.71505\n",
      "Epoch 97/100: average loss 108.67075\n",
      "Epoch 98/100: average loss 108.62780\n",
      "Epoch 99/100: average loss 108.58241\n"
     ]
    }
   ],
   "source": [
    "epochs = 100\n",
    "# for each epoch\n",
    "for epoch in range(epochs):\n",
    "    losses = list()\n",
    "    # for each mini-batch given by the loader:\n",
    "    for batch in loader:\n",
    "        # get the input in the mini-batch\n",
    "        # this has size (B, C)\n",
    "        # where B is the mini-batch size\n",
    "        # C is the number of features (1 in this case)\n",
    "        features = batch[\"data\"]\n",
    "        # get the targets in the mini-batch (there shall be B of them)\n",
    "        target = batch[\"target\"]\n",
    "        # get the output of the neural network:\n",
    "        prediction = network(features)\n",
    "        \n",
    "        # calculate the loss function being minimized\n",
    "        # in this case, it is the mean-squared error between the prediction and the target values\n",
    "        loss = F.mse_loss(prediction, target)\n",
    "        # exactly equivalent to:\n",
    "        #loss = ((prediction - target)**2).mean()\n",
    "\n",
    "        # clean the optimizer temporary gradient storage\n",
    "        optimizer.zero_grad()\n",
    "        # calculate the gradient of the loss function as a function of the gradients\n",
    "        loss.backward()\n",
    "        # ask the Adam optimizer to change the parameters in the direction of - gradient\n",
    "        # Adam scales the gradient by a constant which is adaptively tuned\n",
    "        # take a look at the Adam paper for more details: https://arxiv.org/abs/1412.6980\n",
    "        optimizer.step()\n",
    "        losses.append(loss.detach().cpu().item())\n",
    "    avg_loss = np.mean(np.array(losses))\n",
    "    print(f\"Epoch {epoch}/{epochs}: average loss {avg_loss:.5f}\")"
   ]
  },
  {
   "cell_type": "markdown",
   "id": "a4980bf4",
   "metadata": {},
   "source": [
    "Let us check what the network says about some new data it has never seen before."
   ]
  },
  {
   "cell_type": "code",
   "execution_count": 10,
   "id": "09646d29",
   "metadata": {},
   "outputs": [],
   "source": [
    "test_data = generate_data(N=1000)"
   ]
  },
  {
   "cell_type": "markdown",
   "id": "e315b5dc",
   "metadata": {},
   "source": [
    "And now we can plot again the new images, now showing what the network tells us about it."
   ]
  },
  {
   "cell_type": "code",
   "execution_count": 11,
   "id": "7a06a4c0",
   "metadata": {},
   "outputs": [],
   "source": [
    "predicted = network(torch.from_numpy(test_data[:,0:1])).detach().numpy()"
   ]
  },
  {
   "cell_type": "code",
   "execution_count": 12,
   "id": "bab0ce43",
   "metadata": {},
   "outputs": [
    {
     "data": {
      "image/png": "[encoded data removed]",
      "text/plain": [
       "<Figure size 640x480 with 1 Axes>"
      ]
     },
     "metadata": {},
     "output_type": "display_data"
    }
   ],
   "source": [
    "fig = plt.figure()\n",
    "ax = fig.add_subplot(111)\n",
    "ax.scatter(test_data[:, 0], test_data[:, 1], label=\"Test data\")\n",
    "ax.scatter(test_data[:, 0], predicted, label=\"Predicted\")\n",
    "ax.set(xlabel=\"$x$\", ylabel=\"$f(x)$\")\n",
    "#ax.set_yscale('log')\n",
    "plt.legend(frameon=False)\n",
    "plt.show()"
   ]
  },
  {
   "cell_type": "markdown",
   "id": "ce33b86f-2de6-481f-a663-7ccb3949946c",
   "metadata": {},
   "source": [
    "## What is the impact of the loss function?\n",
    "\n",
    "What if instead of the mean squared error, you used the mean absolute error (L1 loss)? How would the result change? What does that mean for the assumptions of the model?\n",
    "\n",
    "Try replacing `F.mse_loss` above with `F.l1_loss` or `F.huber_loss`. Look for the documentation on those losses to understand what they do."
   ]
  },
  {
   "cell_type": "code",
   "execution_count": null,
   "id": "98ed597c-ef43-456a-a651-6660d4f7d62b",
   "metadata": {},
   "outputs": [],
   "source": []
  },
  {
   "cell_type": "markdown",
   "id": "27e5ca02-6df6-4bc9-a72a-6ff38f5d6aeb",
   "metadata": {},
   "source": [
    "## Regularization\n",
    "\n",
    "You may try to apply regularization to the fit by setting the `weight_decay` argument of the optimizer. For example:\n",
    "\n",
    "```\n",
    "optimizer = torch.optim.Adam(network.parameters(), lr=1e-3, weight_decay=1e-3)\n",
    "```\n",
    "\n",
    "This adds an extra term in the loss function proportional to the sum of square of weights, similarly to how it was discussed in the lecture.\n",
    "\n",
    "If one wants to add other types of regularization terms to the loss function, one may also do that explicitly, by changing the way the loss function is calculated.\n",
    "For example, to add an L1 regularization (absolute value of the parameters, which corresponds to the Laplace prior of parameters), one may add the following lines after calculating the loss function:\n",
    "\n",
    "```\n",
    "l1_lambda = 0.001\n",
    "l1_norm = sum(torch.linalg.norm(p, 1) for p in model.parameters())\n",
    "loss = loss + l1_lambda * l1_norm\n",
    "```\n",
    "\n",
    "Try those out!"
   ]
  },
  {
   "cell_type": "code",
   "execution_count": null,
   "id": "2d90a6c7-60e1-4622-acee-181d41e46b32",
   "metadata": {},
   "outputs": [],
   "source": []
  }
 ],
 "metadata": {
  "kernelspec": {
   "display_name": "Python 3 (ipykernel)",
   "language": "python",
   "name": "python3"
  },
  "language_info": {
   "codemirror_mode": {
    "name": "ipython",
    "version": 3
   },
   "file_extension": ".py",
   "mimetype": "text/x-python",
   "name": "python",
   "nbconvert_exporter": "python",
   "pygments_lexer": "ipython3",
   "version": "3.10.6"
  }
 },
 "nbformat": 4,
 "nbformat_minor": 5
}
